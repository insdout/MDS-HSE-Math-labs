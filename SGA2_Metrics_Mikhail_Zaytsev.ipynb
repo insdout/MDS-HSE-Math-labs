{
 "cells": [
  {
   "cell_type": "code",
   "execution_count": 1,
   "metadata": {},
   "outputs": [],
   "source": [
    "import pandas as pd\n",
    "from pandas.api.types import is_numeric_dtype\n",
    "from random import randint\n",
    "import numpy as np"
   ]
  },
  {
   "cell_type": "markdown",
   "metadata": {},
   "source": [
    "\n",
    "# 1. Generating sample dataset\n"
   ]
  },
  {
   "cell_type": "markdown",
   "metadata": {},
   "source": [
    "Here we generate a sample dataset with columns:  \n",
    "<li> <b> ids </b> - user IDs.\n",
    "<li> <b> ad_shown </b> - 1 if ad was shown for this user in this session or 0 otherwise.\n",
    "<li> <b> ad_clicked </b> - 1 if ad link was clicked by this user in this session or 0 otherwise.\n",
    "<li> <b> page_time </b> - time spent by user on page in seconds.\n",
    "<li> <b> item_bought </b> - 1 if item was bought by this user in this session or 0 otherwise.    \n",
    "<li> <b> quantity </b> - quantity of items bought by user.\n",
    "<li> <b> price </b> - price per item. "
   ]
  },
  {
   "cell_type": "code",
   "execution_count": 2,
   "metadata": {},
   "outputs": [],
   "source": [
    "N = 100 # Number of rows\n",
    "ids = [randint(100,140) for x in range(N)]\n",
    "ad_shown = [randint(0,1) for x in range(N)]\n",
    "ad_clicked = [randint(0,1) if x ==1 else 0 for x in ad_shown ]\n",
    "page_time = [randint(1,100) if x ==1 else 0 for x in ad_clicked ]\n",
    "item_bought = [randint(0,1) if x ==1 else 0 for x in ad_clicked ]\n",
    "quantity = [randint(1,5) if x ==1 else 0 for x in item_bought ]\n",
    "price = [5 if x ==1 else 0 for x in item_bought ]\n"
   ]
  },
  {
   "cell_type": "code",
   "execution_count": 3,
   "metadata": {},
   "outputs": [],
   "source": [
    "df = pd.DataFrame(np.column_stack([ids, ad_shown, ad_clicked, page_time, item_bought, quantity, price]), \n",
    "                    columns=[\"ids\", \"ad_shown\", \"ad_clicked\", \"page_time\", \"item_bought\", \"quantity\", \"price\"],\n",
    "                    dtype=int)"
   ]
  },
  {
   "cell_type": "code",
   "execution_count": 4,
   "metadata": {},
   "outputs": [
    {
     "data": {
      "text/html": [
       "<div>\n",
       "<style scoped>\n",
       "    .dataframe tbody tr th:only-of-type {\n",
       "        vertical-align: middle;\n",
       "    }\n",
       "\n",
       "    .dataframe tbody tr th {\n",
       "        vertical-align: top;\n",
       "    }\n",
       "\n",
       "    .dataframe thead th {\n",
       "        text-align: right;\n",
       "    }\n",
       "</style>\n",
       "<table border=\"1\" class=\"dataframe\">\n",
       "  <thead>\n",
       "    <tr style=\"text-align: right;\">\n",
       "      <th></th>\n",
       "      <th>ids</th>\n",
       "      <th>ad_shown</th>\n",
       "      <th>ad_clicked</th>\n",
       "      <th>page_time</th>\n",
       "      <th>item_bought</th>\n",
       "      <th>quantity</th>\n",
       "      <th>price</th>\n",
       "    </tr>\n",
       "  </thead>\n",
       "  <tbody>\n",
       "    <tr>\n",
       "      <th>0</th>\n",
       "      <td>0</td>\n",
       "      <td>0</td>\n",
       "      <td>0</td>\n",
       "      <td>0</td>\n",
       "      <td>0</td>\n",
       "      <td>0</td>\n",
       "      <td>0</td>\n",
       "    </tr>\n",
       "    <tr>\n",
       "      <th>1</th>\n",
       "      <td>0</td>\n",
       "      <td>0</td>\n",
       "      <td>0</td>\n",
       "      <td>0</td>\n",
       "      <td>0</td>\n",
       "      <td>0</td>\n",
       "      <td>0</td>\n",
       "    </tr>\n",
       "  </tbody>\n",
       "</table>\n",
       "</div>"
      ],
      "text/plain": [
       "   ids  ad_shown  ad_clicked  page_time  item_bought  quantity  price\n",
       "0    0         0           0          0            0         0      0\n",
       "1    0         0           0          0            0         0      0"
      ]
     },
     "execution_count": 4,
     "metadata": {},
     "output_type": "execute_result"
    }
   ],
   "source": [
    "# Empty DF for edge cases:\n",
    "columns = [\"ids\", \"ad_shown\", \"ad_clicked\", \"page_time\", \"item_bought\", \"quantity\", \"price\"]\n",
    "df_zero = pd.DataFrame(np.zeros((N, len(columns))), columns = columns, dtype=int)\n",
    "df_zero.head(2)"
   ]
  },
  {
   "cell_type": "code",
   "execution_count": 5,
   "metadata": {},
   "outputs": [
    {
     "data": {
      "text/html": [
       "<div>\n",
       "<style scoped>\n",
       "    .dataframe tbody tr th:only-of-type {\n",
       "        vertical-align: middle;\n",
       "    }\n",
       "\n",
       "    .dataframe tbody tr th {\n",
       "        vertical-align: top;\n",
       "    }\n",
       "\n",
       "    .dataframe thead th {\n",
       "        text-align: right;\n",
       "    }\n",
       "</style>\n",
       "<table border=\"1\" class=\"dataframe\">\n",
       "  <thead>\n",
       "    <tr style=\"text-align: right;\">\n",
       "      <th></th>\n",
       "      <th>ids</th>\n",
       "      <th>ad_shown</th>\n",
       "      <th>ad_clicked</th>\n",
       "      <th>page_time</th>\n",
       "      <th>item_bought</th>\n",
       "      <th>quantity</th>\n",
       "      <th>price</th>\n",
       "    </tr>\n",
       "  </thead>\n",
       "  <tbody>\n",
       "    <tr>\n",
       "      <th>0</th>\n",
       "      <td>132</td>\n",
       "      <td>0</td>\n",
       "      <td>0</td>\n",
       "      <td>0</td>\n",
       "      <td>0</td>\n",
       "      <td>0</td>\n",
       "      <td>0</td>\n",
       "    </tr>\n",
       "    <tr>\n",
       "      <th>1</th>\n",
       "      <td>122</td>\n",
       "      <td>1</td>\n",
       "      <td>0</td>\n",
       "      <td>0</td>\n",
       "      <td>0</td>\n",
       "      <td>0</td>\n",
       "      <td>0</td>\n",
       "    </tr>\n",
       "    <tr>\n",
       "      <th>2</th>\n",
       "      <td>116</td>\n",
       "      <td>0</td>\n",
       "      <td>0</td>\n",
       "      <td>0</td>\n",
       "      <td>0</td>\n",
       "      <td>0</td>\n",
       "      <td>0</td>\n",
       "    </tr>\n",
       "    <tr>\n",
       "      <th>3</th>\n",
       "      <td>117</td>\n",
       "      <td>1</td>\n",
       "      <td>1</td>\n",
       "      <td>91</td>\n",
       "      <td>0</td>\n",
       "      <td>0</td>\n",
       "      <td>0</td>\n",
       "    </tr>\n",
       "    <tr>\n",
       "      <th>4</th>\n",
       "      <td>112</td>\n",
       "      <td>1</td>\n",
       "      <td>1</td>\n",
       "      <td>33</td>\n",
       "      <td>1</td>\n",
       "      <td>3</td>\n",
       "      <td>5</td>\n",
       "    </tr>\n",
       "    <tr>\n",
       "      <th>5</th>\n",
       "      <td>101</td>\n",
       "      <td>0</td>\n",
       "      <td>0</td>\n",
       "      <td>0</td>\n",
       "      <td>0</td>\n",
       "      <td>0</td>\n",
       "      <td>0</td>\n",
       "    </tr>\n",
       "    <tr>\n",
       "      <th>6</th>\n",
       "      <td>101</td>\n",
       "      <td>1</td>\n",
       "      <td>0</td>\n",
       "      <td>0</td>\n",
       "      <td>0</td>\n",
       "      <td>0</td>\n",
       "      <td>0</td>\n",
       "    </tr>\n",
       "    <tr>\n",
       "      <th>7</th>\n",
       "      <td>110</td>\n",
       "      <td>0</td>\n",
       "      <td>0</td>\n",
       "      <td>0</td>\n",
       "      <td>0</td>\n",
       "      <td>0</td>\n",
       "      <td>0</td>\n",
       "    </tr>\n",
       "    <tr>\n",
       "      <th>8</th>\n",
       "      <td>105</td>\n",
       "      <td>1</td>\n",
       "      <td>1</td>\n",
       "      <td>62</td>\n",
       "      <td>0</td>\n",
       "      <td>0</td>\n",
       "      <td>0</td>\n",
       "    </tr>\n",
       "    <tr>\n",
       "      <th>9</th>\n",
       "      <td>105</td>\n",
       "      <td>1</td>\n",
       "      <td>0</td>\n",
       "      <td>0</td>\n",
       "      <td>0</td>\n",
       "      <td>0</td>\n",
       "      <td>0</td>\n",
       "    </tr>\n",
       "  </tbody>\n",
       "</table>\n",
       "</div>"
      ],
      "text/plain": [
       "   ids  ad_shown  ad_clicked  page_time  item_bought  quantity  price\n",
       "0  132         0           0          0            0         0      0\n",
       "1  122         1           0          0            0         0      0\n",
       "2  116         0           0          0            0         0      0\n",
       "3  117         1           1         91            0         0      0\n",
       "4  112         1           1         33            1         3      5\n",
       "5  101         0           0          0            0         0      0\n",
       "6  101         1           0          0            0         0      0\n",
       "7  110         0           0          0            0         0      0\n",
       "8  105         1           1         62            0         0      0\n",
       "9  105         1           0          0            0         0      0"
      ]
     },
     "execution_count": 5,
     "metadata": {},
     "output_type": "execute_result"
    }
   ],
   "source": [
    "df.head(10)"
   ]
  },
  {
   "cell_type": "markdown",
   "metadata": {},
   "source": [
    "\n",
    "# 2. Implementing functions.  \n",
    "\n",
    "## 2.1 Click-Through Rate\n"
   ]
  },
  {
   "cell_type": "markdown",
   "metadata": {},
   "source": [
    "<p><center><b> Click-Through Rate (CTR) </b> </center></p>\n",
    "<b> Click-Through Rate (CTR) </b> is calculated as: $$ CTR = \\frac {\\text{Total Measured Clicks}}{\\text{Total Measured Ad Impressions} } \\times 100 \\% $$  \n",
    "<p>\n",
    "<li><b>Total Measured Clicks </b> - is the total amount of clicks on an ad   \n",
    "<li><b>Total Measured Ad Impressions </b> - is the number of times an ad was loaded on a page  \n",
    "</p>\n",
    "So CTR function should take a list of users for whom the ad was shown and their actions and output a single value in the range from 0 to 100.  \n",
    "\n",
    "Edge cases:  \n",
    "<li> Data has less dimensions\n",
    "<li> Length of Data is zero \n",
    "<li> Data is not numeric \n",
    "<li> Data contains digits except 0 and 1\n",
    "<li> TMAI is zero \n",
    "<li> TMC > TMAI </li>\n",
    "Let`s implement CTR function:"
   ]
  },
  {
   "cell_type": "code",
   "execution_count": 6,
   "metadata": {},
   "outputs": [],
   "source": [
    "def CTR(X, ad_shown, id_actions):\n",
    "    \n",
    "    if X.ndim < 2 or len(X) == 0:\n",
    "        return \"2D array expected!\"\n",
    "    else:\n",
    "        if X.shape[1] < 2:\n",
    "            return \"Data should have 2 colums!\"\n",
    "        \n",
    "        elif not (is_numeric_dtype(X[ad_shown]) and is_numeric_dtype(X[id_actions])):\n",
    "            return \"Data should numeric!\"\n",
    "        \n",
    "        elif set(X[id_actions].unique()).union([0,1]) -{0,1} != set() or \\\n",
    "                set(X[ad_shown].unique()).union([0,1]) -{0,1} != set():\n",
    "            return(\"The values expected to be 0 or 1!\")\n",
    "        \n",
    "        else:\n",
    "            TMC = X[id_actions].astype(int).sum()\n",
    "            TMAI = X[ad_shown].astype(int).sum()\n",
    "            \n",
    "            if TMAI <= 0 or TMC > TMAI:\n",
    "                return \"Something is wrong with the data!\"\n",
    "            \n",
    "            CTR = TMC / TMAI * 100\n",
    "        return round(CTR, 2)\n",
    "    "
   ]
  },
  {
   "cell_type": "markdown",
   "metadata": {},
   "source": [
    "Lets check the function on expected data and edge cases:"
   ]
  },
  {
   "cell_type": "code",
   "execution_count": 7,
   "metadata": {},
   "outputs": [
    {
     "name": "stdout",
     "output_type": "stream",
     "text": [
      "Expected output:\n",
      "53.06\n",
      "===========================================\n",
      "Edge cases:\n",
      "The values expected to be 0 or 1!\n",
      "2D array expected!\n",
      "Data should have 2 colums!\n",
      "Something is wrong with the data!\n"
     ]
    }
   ],
   "source": [
    "print(\"Expected output:\")\n",
    "print(CTR(df, \"ad_shown\", \"ad_clicked\"))\n",
    "print(\"===========================================\")\n",
    "print(\"Edge cases:\")\n",
    "print(CTR(df, \"ids\", \"ad_clicked\"))\n",
    "print(CTR(df.iloc[:0,:], \"ad_shown\", \"ad_clicked\"))\n",
    "print(CTR(df.iloc[:,:0], \"ad_shown\", \"ad_clicked\"))\n",
    "print(CTR(df_zero, \"ad_shown\", \"ad_clicked\"))"
   ]
  },
  {
   "cell_type": "markdown",
   "metadata": {},
   "source": [
    "\n",
    "## 2.2 Return on Investment (ROI)\n"
   ]
  },
  {
   "cell_type": "markdown",
   "metadata": {},
   "source": [
    "<p><center><b> Return on Investment (ROI) </b> </center></p>\n",
    "<b> Return on Investment (ROI) </b> is calculated as: $$ ROI = \\frac {\\text{Amount Gained – Amount Spent}}{\\text{Amount Spent} } \\times 100 \\% $$  \n",
    "<p>\n",
    "<li><b>Amount Gained </b> - is the amount of income that has been generated by an investment.   \n",
    "<li><b>Amount Spent </b> - is the total amount spent on an investment.   \n",
    "</p>\n",
    "<p>\n",
    "ROI stands for Return on Investment and means the amount of money you get back relative to the amount of money you put into something. It is different to profit, which is simply the amount spent subtracted from the amount earned. ROI goes a step further and works out profit per the amount spent. This answers the question – how much profit can I earn per pound/dollar/euro etc spent. </p>\n",
    "\n",
    "So ROI function should take a list of users for whom the ad was shown, check if they clicked on ad and if yes, add their spent sum to Amount Gained than substract the Ammount Spent on the ad compain.  \n",
    "  \n",
    "  \n",
    "In our case Amount Gained is: $\\sum^k_{i=1}\\, \\text{item_bought}\\times\\text{quantity}\\times\\text{price}$  \n",
    "Amount Spent is: $\\sum^k_{i=1}\\, \\text{price_per_ad }$   \n",
    "\n",
    "Output: any real number.\n",
    "Edge cases:  \n",
    "<li> Data has less dimensions\n",
    "<li> Length of Data is zero \n",
    "<li> Data is not numeric \n",
    "<li> Data for item_bought, id_actions, ad_shown contains digits except 0 and 1\n",
    "<li> Amount Spent is zero \n",
    "\n",
    "Let`s implement ROI function:"
   ]
  },
  {
   "cell_type": "code",
   "execution_count": 8,
   "metadata": {},
   "outputs": [],
   "source": [
    "def ROI(X, ad_shown, id_actions, item_bouht, quantity, price, price_per_ad):\n",
    "    \n",
    "    if X.ndim < 2 or len(X) == 0:\n",
    "        return \"2D array expected!\"\n",
    "    else:\n",
    "        if X.shape[1] < 4:\n",
    "            return \"Data should have 4 colums!\"\n",
    "        \n",
    "        elif not(\n",
    "                is_numeric_dtype(X[ad_shown]) and is_numeric_dtype(X[id_actions]) \\\n",
    "                and is_numeric_dtype(X[item_bouht]) and is_numeric_dtype(X[quantity]) \\\n",
    "                and is_numeric_dtype(X[price]) and (type(price_per_ad) == int or type(price_per_ad) == float)):\n",
    "            return \"Data should numeric!\"\n",
    "        \n",
    "        elif  set(X[id_actions].unique()).union([0,1]) -{0,1} != set() or \\\n",
    "                    set(X[ad_shown].unique()).union([0,1]) -{0,1} != set() or \\\n",
    "                    set(X[item_bouht].unique()).union([0,1]) -{0,1} != set():\n",
    "            return(\"The values expected to be 0 or 1!\")\n",
    "        \n",
    "        else:\n",
    "            AG = sum(X[id_actions].astype(int) * X[ad_shown].astype(int) * X[item_bouht].astype(int) * \\\n",
    "            X[quantity].astype(int) * X[price].astype(int))\n",
    "            AS = price_per_ad * X[ad_shown].astype(int).sum()\n",
    "\n",
    "            \n",
    "            if AS <= 0:\n",
    "                return \"Something is wrong with the data!\"\n",
    "            \n",
    "            ROI = (AG - AS) / AS * 100\n",
    "        return round(ROI, 2)\n",
    "    "
   ]
  },
  {
   "cell_type": "markdown",
   "metadata": {},
   "source": [
    "Lets check the function on expected data and edge cases:"
   ]
  },
  {
   "cell_type": "code",
   "execution_count": 9,
   "metadata": {},
   "outputs": [
    {
     "name": "stdout",
     "output_type": "stream",
     "text": [
      "Expected output:\n",
      "757.14\n",
      "===========================================\n",
      "Edge cases:\n",
      "Data should numeric!\n",
      "The values expected to be 0 or 1!\n",
      "2D array expected!\n",
      "Data should have 4 colums!\n",
      "Something is wrong with the data!\n"
     ]
    }
   ],
   "source": [
    "print(\"Expected output:\")\n",
    "print(ROI(df, \"ad_shown\", \"ad_clicked\",  \"item_bought\", \"quantity\", \"price\", 0.5))\n",
    "print(\"===========================================\")\n",
    "print(\"Edge cases:\")\n",
    "print(ROI(df, \"ad_shown\", \"ad_clicked\",  \"item_bought\", \"quantity\", \"price\", \"0.5\"))\n",
    "print(ROI(df, \"ids\", \"ad_clicked\",  \"item_bought\", \"quantity\", \"price\", 0.5))\n",
    "print(ROI(df.iloc[:0,:], \"ad_shown\", \"ad_clicked\",  \"item_bought\", \"quantity\", \"price\", 0.5))\n",
    "print(ROI(df.iloc[:,:3], \"ad_shown\", \"ad_clicked\",  \"item_bought\", \"quantity\", \"price\", 0.5))\n",
    "print(ROI(df_zero, \"ad_shown\", \"ad_clicked\",  \"item_bought\", \"quantity\", \"price\", 0.5))"
   ]
  },
  {
   "cell_type": "markdown",
   "metadata": {},
   "source": [
    "\n",
    "## 2.3 Average Page Time\n"
   ]
  },
  {
   "cell_type": "markdown",
   "metadata": {},
   "source": [
    "<p><center><b> Average Page Time </b> </center></p>\n",
    "<b> Average Page Time </b> is calculated as: $$ APT = \\frac {\\sum\\,\\text{Time Spent on a Page by a User}}{\\text{Number of Users} }  $$  \n",
    "<p>\n",
    "<li><b>Time Spent on a Page by a User </b> - is time measured for each user who visits a webpage.   \n",
    "<li><b>Number of Users </b> - is the number of users who visit a webpage.   \n",
    "</p>\n",
    "<p>\n",
    "Usually users who spend less than 5 seconds on a webpage are not included in the calculations. </p>\n",
    "\n",
    "\n",
    "In our case Time Spent on a Page by a User is: $$\\sum \\text{ad_clicked}\\times\\text{page_time}\\times \\text{I(page_time>5)}$$  \n",
    "Number of Users is: $$ \\text{len(}\\text{set(ad_clicked } \\times \\text{I(page_time>5))}\\text{)}$$ \n",
    "\n",
    "<p> Where $ \\text{I(page_time > 5)} $ is: </p>  \n",
    "\n",
    "$$ \\text{I(page_time > 5)}= \\begin{cases}\n",
    "1, & \\text{if page_time $<5$;} \\\\\n",
    "0, & \\text{if page_time $\\geqslant 0$.}\n",
    "\\end{cases} $$\n",
    "\n",
    "\n",
    "Output: any real positive number.\n",
    "Edge cases:  \n",
    "<li> Data has less dimensions\n",
    "<li> Length of Data is zero \n",
    "<li> Data is not numeric \n",
    "<li> Data for item_bought, id_actions, ad_shown contains digits except 0 and 1\n",
    "<li> Number of users is zero \n",
    "\n",
    "Let`s implement AVP function:\n"
   ]
  },
  {
   "cell_type": "code",
   "execution_count": 10,
   "metadata": {},
   "outputs": [],
   "source": [
    "def AVP(X, ids, id_actions, page_time):\n",
    "    \n",
    "    #Checking for edge cases:\n",
    "    if X.ndim < 2 or len(X) == 0:\n",
    "        return \"2D array expected!\"\n",
    "    else:\n",
    "        if X.shape[1] < 3:\n",
    "            return \"Data should have 3 colums!\"\n",
    "        \n",
    "        elif not is_numeric_dtype(X[ids]) and is_numeric_dtype(X[id_actions]) \\\n",
    "                and is_numeric_dtype(X[page_time]):\n",
    "            return \"Data should numeric!\"\n",
    "        \n",
    "        elif  set(X[id_actions].unique()).union([0,1]) -{0,1} != set():\n",
    "            return(str(id_actions)+\" column values expected to be 0 or 1!\")\n",
    "        \n",
    "        else:\n",
    "            # Sum of page time for all users clicked on add if page_time is greater than 5\n",
    "            TSPU = sum(X[page_time][(X[id_actions] == 1) & ( X[page_time] > 5)].astype(int))\n",
    "            \n",
    "            #Calculating the amount of unique users clicked on ad if their page_time is greater than 5\n",
    "            NU = len(X[ids][(X[id_actions] == 1) & ( X[page_time] > 5)].unique())\n",
    " \n",
    "            if NU <= 0:\n",
    "                return \"Something is wrong with the data!\"\n",
    "            \n",
    "            AVP = TSPU / NU\n",
    "        return round(AVP, 2)\n",
    "\n",
    "    "
   ]
  },
  {
   "cell_type": "markdown",
   "metadata": {},
   "source": [
    "Lets check the function on expected data and edge cases:"
   ]
  },
  {
   "cell_type": "code",
   "execution_count": 11,
   "metadata": {},
   "outputs": [
    {
     "name": "stdout",
     "output_type": "stream",
     "text": [
      "Expected output:\n",
      "68.41\n",
      "===========================================\n",
      "Edge cases:\n",
      "ids column values expected to be 0 or 1!\n",
      "2D array expected!\n",
      "Data should have 3 colums!\n",
      "Something is wrong with the data!\n"
     ]
    }
   ],
   "source": [
    "print(\"Expected output:\")\n",
    "print(AVP(df,\"ids\", \"ad_clicked\", \"page_time\"))\n",
    "print(\"===========================================\")\n",
    "print(\"Edge cases:\")\n",
    "print(AVP(df, \"ids\", \"ids\", \"page_time\"))\n",
    "print(AVP(df.iloc[:0,:], \"ids\", \"ad_clicked\", \"page_time\"))\n",
    "print(AVP(df.iloc[:,:2], \"ids\", \"ad_clicked\", \"page_time\"))\n",
    "print(AVP(df_zero, \"ids\", \"ad_clicked\", \"page_time\"))"
   ]
  },
  {
   "cell_type": "markdown",
   "metadata": {},
   "source": [
    "\n",
    "## 2.4 Customer Lifetime Value (CLV)\n"
   ]
  },
  {
   "cell_type": "markdown",
   "metadata": {},
   "source": [
    "<p><center><b> Customer Lifetime Value (CLV) </b> </center></p>  \n",
    "\n",
    "I assume there is a typo in this metric task: it seems unlogical to substract Average Purchase Frequency from Average Purchase Value, so I took a different formula for CLV.  \n",
    "  \n",
    "  \n",
    "<b> Customer Lifetime Value (CLV) </b> is calculated as: $$ CLV = \\text{Average Purchase Value}\\times\\text{Average Purchase Frequency} \\times \\text{Average Customer Lifespan}  $$  \n",
    "<p>\n",
    "<li><b>Average Purchase Value </b> - is Total Revenue / # of Purchases.   \n",
    "<li><b>Average Purchase Frequency </b> - is the # of Purchases / Unique Customers. \n",
    "<li><b>Average Customer Lifespan </b> - is the time of how long customers stay with your business. \n",
    "</p>\n",
    "\n",
    "\n",
    "\n",
    "In our case Average Purchase Value is: $$ \\frac {\\sum\\, \\text{item_bought}\\times\\text{quantity}\\times \\text{price}}{\\sum{\\text{item_bought}}}$$  \n",
    "Average Purchase Frequency is: $$ \\frac{ \\sum\\, \\text{item_bought} } { \\sum\\, \\text{ids} \\times \\text{item_bought} }$$\n",
    "\n",
    "\n",
    "\n",
    "\n",
    "Output: any real positive number.\n",
    "Edge cases:  \n",
    "<li> Data has less dimensions\n",
    "<li> Length of Data is zero \n",
    "<li> Data is not numeric \n",
    "<li> Data for item_bought contains digits except 0 and 1\n",
    "<li> Number of users is zero \n",
    "\n",
    "Let`s implement CLV function:\n"
   ]
  },
  {
   "cell_type": "code",
   "execution_count": 12,
   "metadata": {},
   "outputs": [],
   "source": [
    "def CLV(X, ids, item_bought, quantity, price, average_lifespan):\n",
    "    \n",
    "    #Checking for edge cases:\n",
    "    if X.ndim < 2 or len(X) == 0:\n",
    "        return \"2D array expected!\"\n",
    "    else:\n",
    "        if X.shape[1] < 4:\n",
    "            return \"Data should have 4 colums!\"\n",
    "        \n",
    "        elif not (is_numeric_dtype(X[ids]) and is_numeric_dtype(X[item_bought]) \\\n",
    "                and is_numeric_dtype(X[quantity]) and is_numeric_dtype(X[price]) \\\n",
    "                 and (type(average_lifespan) == int or type(average_lifespan) ==  float) ):\n",
    "            return \"Data should numeric!\"\n",
    "        \n",
    "        elif  set(X[item_bought].unique()).union([0,1]) -{0,1} != set():\n",
    "            return(str(id_actions)+\" column values expected to be 0 or 1!\")\n",
    "        \n",
    "        else:\n",
    "            # Total Revenue\n",
    "            Total_Purchases = sum(X[item_bought].astype(int) * X[quantity].astype(int) * X[price].astype(int))\n",
    "            #Number of purchases\n",
    "            Num_Perchases = sum(X[item_bought].astype(int))\n",
    "            #Number of unique customers\n",
    "            Num_Customers = len(X[ids].unique())\n",
    "            \n",
    "            if Num_Perchases <= 0 or Num_Customers <= 0:\n",
    "                return \"Something is wrong with the data!\"\n",
    "            \n",
    "            APV = Total_Purchases / Num_Perchases\n",
    "            APF = Num_Perchases / Num_Customers\n",
    "            #Calculating CLV\n",
    "            CLV = APV * APF * average_lifespan\n",
    "        return round(CLV, 2)\n",
    "\n",
    "    "
   ]
  },
  {
   "cell_type": "markdown",
   "metadata": {},
   "source": [
    "Lets check the function on expected data and edge cases:"
   ]
  },
  {
   "cell_type": "code",
   "execution_count": 13,
   "metadata": {},
   "outputs": [
    {
     "name": "stdout",
     "output_type": "stream",
     "text": [
      "Expected output:\n",
      "11.05\n",
      "===========================================\n",
      "Edge cases:\n",
      "Data should numeric!\n",
      "2D array expected!\n",
      "Data should have 4 colums!\n",
      "Something is wrong with the data!\n"
     ]
    }
   ],
   "source": [
    "print(\"Expected output:\")\n",
    "print(CLV(df, \"ids\", \"item_bought\", \"quantity\", \"price\", 2))\n",
    "print(\"===========================================\")\n",
    "print(\"Edge cases:\")\n",
    "print(CLV(df, \"ids\", \"item_bought\", \"quantity\", \"price\", \"2\"))\n",
    "print(CLV(df.iloc[:0,:], \"ids\", \"item_bought\", \"quantity\", \"price\", 2))\n",
    "print(CLV(df.iloc[:,:2], \"ids\", \"item_bought\", \"quantity\", \"price\", 2))\n",
    "print(CLV(df_zero, \"ids\", \"item_bought\", \"quantity\", \"price\", 2))"
   ]
  },
  {
   "cell_type": "markdown",
   "metadata": {},
   "source": [
    "\n",
    "## 2.5 Conversion Rate (CR).\n"
   ]
  },
  {
   "cell_type": "markdown",
   "metadata": {},
   "source": [
    "<p><center><b> Conversion Rate (CR) </b> </center></p>  \n",
    "   \n",
    "  \n",
    "<b> Conversion Rate (CR) </b> is calculated as: $$ CR = \\frac {\\text{Total Attributed Conversion}}{\\text{Total Measured Clicks}} \\times \\text{100%}  $$  \n",
    "<p>\n",
    "<li><b>Total Attributed Conversion </b> - is the total amount of conversion recorded which have been caused clicks.   \n",
    "<li><b>Total Clicks </b> - is the number of times an ad was clicked on. \n",
    "\n",
    " In our case Total Attributed Conversion is: $ \\sum \\text{item_bought}$  \n",
    "    \n",
    "Total Clicks is: $ \\ \\sum \\text{ad_clicked} $\n",
    "    \n",
    "    \n",
    "Output: any real positive number.\n",
    "Edge cases:  \n",
    "<li> Data has less dimensions\n",
    "<li> Length of Data is zero \n",
    "<li> Data is not numeric \n",
    "<li> Data for item_bought contains digits except 0 and 1\n",
    "<li> Number of users is zero \n",
    "\n",
    "Let`s implement CR function:\n"
   ]
  },
  {
   "cell_type": "code",
   "execution_count": 14,
   "metadata": {},
   "outputs": [],
   "source": [
    "def CR(X, ad_clicked, item_bought):\n",
    "    #Checking for edge cases:\n",
    "    if X.ndim < 2 or len(X) == 0:\n",
    "        return \"2D array expected!\"\n",
    "    else:\n",
    "        if X.shape[1] < 2:\n",
    "            return \"Data should have 2 colums!\"\n",
    "        \n",
    "        elif not (is_numeric_dtype(X[ad_clicked]) and is_numeric_dtype(X[item_bought])):\n",
    "            return \"Data should numeric!\"\n",
    "        \n",
    "        elif  set(X[ad_clicked].astype(int).unique()).union([0,1]) -{0,1} != set() or \\\n",
    "                set(X[item_bought].astype(int).unique()).union([0,1]) -{0,1} != set():\n",
    "            return(\"Column values expected to be 0 or 1!\")\n",
    "        \n",
    "        else:\n",
    "            #Total Conversion\n",
    "            Total_Conversion = sum(X[item_bought].astype(int))\n",
    "            #Total Clicks\n",
    "            Total_Clicks = sum(X[ad_clicked].astype(int))\n",
    "            \n",
    "            if Total_Clicks <= 0 or Total_Clicks < Total_Conversion:\n",
    "                return \"Something is wrong with the data!\"\n",
    "            \n",
    "            #Calculating CR\n",
    "            CR = Total_Conversion / Total_Clicks\n",
    "        return round(CR, 2)"
   ]
  },
  {
   "cell_type": "markdown",
   "metadata": {},
   "source": [
    "Lets check the function on expected data and edge cases:"
   ]
  },
  {
   "cell_type": "code",
   "execution_count": 15,
   "metadata": {},
   "outputs": [
    {
     "name": "stdout",
     "output_type": "stream",
     "text": [
      "Expected output:\n",
      "0.58\n",
      "===========================================\n",
      "Edge cases:\n",
      "2D array expected!\n",
      "Data should have 2 colums!\n",
      "Something is wrong with the data!\n"
     ]
    }
   ],
   "source": [
    "print(\"Expected output:\")\n",
    "print(CR(df, \"ad_clicked\", \"item_bought\"))\n",
    "print(\"===========================================\")\n",
    "print(\"Edge cases:\")\n",
    "print(CR(df.iloc[:0,:],  \"ad_clicked\", \"item_bought\"))\n",
    "print(CR(df.iloc[:,:1],  \"ad_clicked\", \"item_bought\"))\n",
    "print(CR(df_zero,  \"ad_clicked\", \"item_bought\"))"
   ]
  },
  {
   "cell_type": "markdown",
   "metadata": {},
   "source": [
    "\n",
    "# 3. Additional Metrics.\n"
   ]
  },
  {
   "cell_type": "markdown",
   "metadata": {},
   "source": [
    "\n",
    "## 3.1. Bounce rate.\n"
   ]
  },
  {
   "cell_type": "markdown",
   "metadata": {},
   "source": [
    "Essentially, bounce rate is the percentage of website visitors who look at one page then leave right after. Having a high bounce rate indicates that your content, copy, or offer aren’t keeping people on the site, which also translates to sales pipeline breakdowns. \n",
    "\n",
    "We will calculate it by measuring how many users did`t spend much time after clicking the ad comparing to all who clicked on the ad.  \n",
    "\n",
    "the formula is: $$ \\text{BR} = \\frac { \\sum \\text{Users Left Right After}}{\\sum \\text{All Users Clicked On Ad}} $$  \n",
    "  \n",
    "  \n",
    "Input: DataFrame, ad_clicked: {0,1}, time_spend_on_page: int , limit: integer  \n",
    "limit: is time limit which we consider to be short  \n",
    "\n",
    "Output: any real positive number in range from 0 to 100.  \n",
    "\n",
    "Edge cases:  \n",
    "<li> Data has less dimensions\n",
    "<li> Length of Data is zero \n",
    "<li> Data is not numeric \n",
    "<li> Data for ad_clicked contains digits except 0 and 1\n",
    "<li> Number of users is zero \n",
    "\n",
    "Let`s implement BR function:"
   ]
  },
  {
   "cell_type": "code",
   "execution_count": 16,
   "metadata": {},
   "outputs": [],
   "source": [
    "def BR(X, ad_clicked, time_spend, limit):\n",
    "    #Checking for edge cases:\n",
    "    if X.ndim < 2 or len(X) == 0:\n",
    "        return \"2D array expected!\"\n",
    "    else:\n",
    "        if X.shape[1] < 2:\n",
    "            return \"Data should have 2 colums!\"\n",
    "        \n",
    "        elif not (is_numeric_dtype(X[ad_clicked]) and is_numeric_dtype(X[time_spend]) \\\n",
    "                  and (type(limit) == int or type(limit) ==  float)):\n",
    "            return \"Data should numeric!\"\n",
    "        \n",
    "        elif  set(X[ad_clicked].astype(int).unique()).union([0,1]) -{0,1} != set():\n",
    "            return(\"Column values expected to be 0 or 1!\")\n",
    "        \n",
    "        else:\n",
    "            #Users Left\n",
    "            Users_Left = sum(X[ad_clicked][X[time_spend] < limit].astype(int))\n",
    "            #Total Clicks\n",
    "            Total_Clicks = sum(X[ad_clicked].astype(int))\n",
    "            \n",
    "            if Total_Clicks <= 0 or Total_Clicks < Users_Left:\n",
    "                return \"Something is wrong with the data!\"\n",
    "            \n",
    "            #Calculating BR\n",
    "            BR = Users_Left / Total_Clicks\n",
    "        return round(BR, 2)"
   ]
  },
  {
   "cell_type": "markdown",
   "metadata": {},
   "source": [
    "Lets check the function on expected data and edge cases:"
   ]
  },
  {
   "cell_type": "code",
   "execution_count": 17,
   "metadata": {},
   "outputs": [
    {
     "name": "stdout",
     "output_type": "stream",
     "text": [
      "Expected output:\n",
      "0.42\n",
      "===========================================\n",
      "Edge cases:\n",
      "Data should numeric!\n",
      "2D array expected!\n",
      "Data should have 2 colums!\n",
      "Something is wrong with the data!\n"
     ]
    }
   ],
   "source": [
    "print(\"Expected output:\")\n",
    "print(BR(df, \"ad_clicked\", \"page_time\", 50))\n",
    "print(\"===========================================\")\n",
    "print(\"Edge cases:\")\n",
    "print(BR(df, \"ad_clicked\", \"page_time\", \"50\"))\n",
    "print(BR(df.iloc[:0,:], \"ad_clicked\", \"page_time\", 101))\n",
    "print(BR(df.iloc[:,:1], \"ad_clicked\", \"page_time\", 101))\n",
    "print(BR(df_zero, \"ad_clicked\", \"page_time\", 101))"
   ]
  },
  {
   "cell_type": "markdown",
   "metadata": {},
   "source": [
    "\n",
    "## 3.2 Cost Per Conversion.\n"
   ]
  },
  {
   "cell_type": "markdown",
   "metadata": {},
   "source": [
    "<b>Cost per conversion</b> is a metric used to identify how much it actually costs a Web advertiser to acquire each real customer - one that actually makes a purchase. The cost includes all the traffic for the duration of a campaign, during which conversions are also tracked. To make CPC calculation easier, advertising companies usually provide \"traffic packages,\" where the one paying for advertisements gets a specific number of views or a specific time span for a fixed amount.\n",
    "  \n",
    "$$ CPR = \\frac {\\sum \\text{ad_shown} \\times \\text{Price Per Ad}} {\\sum \\text{item_bought}} $$\n",
    "The formula for cost for conversion is simple: It is the total cost for generating the traffic divided by the number of conversions.  \n",
    "For example, suppose that an ad campaign costs \\\\$ 100 for 100 views and at the end of the campaign, it yielded five conversions. In that case, the formula is \n",
    "$$ CPC = \\frac {\\$\\text{100}} {\\text{5}} = \\$ 20 \\text{ per conversion.}$$  \n",
    "\n",
    "Input: DataFrame, ad_shown: {0,1}, ad_clicked: {0,1}, price_per_ad: integer or float  \n",
    " \n",
    "Output: any real positive number.\n",
    "Edge cases:  \n",
    "<li> Data has less dimensions\n",
    "<li> Length of Data is zero \n",
    "<li> Data is not numeric \n",
    "<li> Data for ad_clicked contains digits except 0 and 1\n",
    "<li> Number of users is zero \n",
    "\n",
    "Let`s implement CPC function:"
   ]
  },
  {
   "cell_type": "code",
   "execution_count": 18,
   "metadata": {},
   "outputs": [],
   "source": [
    "def CPC(X, ad_shown, ad_clicked, item_bought, price_per_ad):\n",
    "    #Checking for edge cases:\n",
    "    if X.ndim < 2 or len(X) == 0:\n",
    "        return \"2D array expected!\"\n",
    "    else:\n",
    "        if X.shape[1] < 2:\n",
    "            return \"Data should have 2 colums!\"\n",
    "        \n",
    "        elif not (is_numeric_dtype(X[ad_shown]) and is_numeric_dtype(X[item_bought]) \\\n",
    "                  and is_numeric_dtype(X[ad_clicked]) and (type(price_per_ad) == int \\\n",
    "                                                           or type(price_per_ad) ==  float)):\n",
    "            return \"Data should numeric!\"\n",
    "        \n",
    "        elif  set(X[ad_shown].astype(int).unique()).union([0,1]) -{0,1} != set() \\\n",
    "                and set(X[item_bought].astype(int).unique()).union([0,1]) -{0,1} != set():\n",
    "            return(\"Column values expected to be 0 or 1!\")\n",
    "        \n",
    "        else:\n",
    "            #Total ad price\n",
    "            Total_Ad_Price = sum(X[ad_shown].astype(int)) * price_per_ad\n",
    "            #Ammount of items bought\n",
    "            Items_Bought = sum(X[ad_clicked].astype(int) * X[item_bought].astype(int))\n",
    "            \n",
    "            if Items_Bought <= 0:\n",
    "                return \"Something is wrong with the data!\"\n",
    "            \n",
    "            #Calculating CPC\n",
    "            CPC = Total_Ad_Price / Items_Bought\n",
    "        return round(CPC, 2)"
   ]
  },
  {
   "cell_type": "markdown",
   "metadata": {},
   "source": [
    "Lets check the function on expected data and edge cases:"
   ]
  },
  {
   "cell_type": "code",
   "execution_count": 19,
   "metadata": {},
   "outputs": [
    {
     "name": "stdout",
     "output_type": "stream",
     "text": [
      "1.63\n",
      "===========================================\n",
      "Edge cases:\n",
      "Data should numeric!\n",
      "2D array expected!\n",
      "Data should have 2 colums!\n",
      "Something is wrong with the data!\n"
     ]
    }
   ],
   "source": [
    "print(CPC(df, \"ad_shown\", \"ad_clicked\", \"item_bought\", 0.5))\n",
    "print(\"===========================================\")\n",
    "print(\"Edge cases:\")\n",
    "print(CPC(df, \"ad_shown\", \"ad_clicked\", \"item_bought\", \"0.5\"))\n",
    "print(CPC(df.iloc[:0,:], \"ad_shown\", \"ad_clicked\", \"item_bought\", 0.5))\n",
    "print(CPC(df.iloc[:,:1], \"ad_shown\", \"ad_clicked\", \"item_bought\", 0.5))\n",
    "print(CPC(df_zero, \"ad_shown\", \"ad_clicked\", \"item_bought\", 0.5))"
   ]
  },
  {
   "cell_type": "markdown",
   "metadata": {},
   "source": [
    "\n",
    "## 3.3 New Vs. Returning Visitors.\n"
   ]
  },
  {
   "cell_type": "markdown",
   "metadata": {},
   "source": [
    "<b> New Vs. Returning Visitors. </b>\n",
    "Analyze the \\% of new users (unique visitors that did not visit the site for at least three months) a website acquires vs. \\% of returning users (unique visitors who visited the website within three months period) on a monthly granularity to track audience behavior and measure engagement levels.\n",
    "\n",
    "\n",
    "Calculation:  \n",
    "<li><b>New Users </b> -are unique visitors that were not spotted visiting the site for at least N months. \n",
    "<li><b>Returning Users </b> - are the opposite of new users, i.e., every user that visited a site within the N months lifetime.\n",
    "\n",
    "Formula:  \n",
    "    $$ \\text{New Vs Returning Visitors} = \\frac { \\sum \\text{New Users} }{ \\sum \\text{Returning Users}}  $$  \n",
    "    \n",
    "For a single site: The user can see the ratio (number and percentage) of New Users vs. Returning users over time.\n",
    "\n",
    "\n",
    "Usage:\n",
    "Understand the types of users, their behaviors, and the impact of new vs. returning users have on a website’s overall performance. Use these insights to measure the success of your audience acquisition and retention strategies.\n",
    "    \n",
    "Input: DataFrame, ids: int, first_period_index: int, second_period_index: integer    \n",
    "\n",
    "We will get all users from first period and then calculate the fraction of New Users to Returning Users for the second period. \n",
    "    \n",
    "Output: any real positive number.  \n",
    "    \n",
    "Edge cases:  \n",
    "<li> Data has less dimensions\n",
    "<li> Length of Data is zero \n",
    "<li> Data is not numeric \n",
    "<li> Number of users is zero \n",
    "\n",
    "Let`s implement function:"
   ]
  },
  {
   "cell_type": "code",
   "execution_count": 20,
   "metadata": {},
   "outputs": [],
   "source": [
    "def NVRV(X, ids, first_period_index, second_period_index):\n",
    "    #Checking for edge cases:\n",
    "    if len(X[ids]) == 0:\n",
    "        return \"DF has no entries!\"\n",
    "    else:\n",
    "        if not (is_numeric_dtype(X[ids]) and (type(first_period_index) == int \\\n",
    "                or type(first_period_index) ==  float) and (type(second_period_index) == int \\\n",
    "                or type(second_period_index) ==  float)):\n",
    "            return \"Data should numeric!\"\n",
    "        \n",
    "        elif  second_period_index < 1 or first_period_index < 1:\n",
    "            return(\"indexes should be greater than 1!\")\n",
    "        elif (second_period_index < first_period_index) or (first_period_index > len(X)) \\\n",
    "                or (second_period_index > len(X)):\n",
    "            return \"Something is wrong with the data!\"\n",
    "        else:\n",
    "            #Unique users from first period\n",
    "            Unique_Id_First = set(X[ids][:first_period_index].unique())\n",
    "            #Unique users from second period\n",
    "            Unique_Id_Second = set(X[ids][first_period_index:second_period_index].unique())\n",
    "            \n",
    "            if len(Unique_Id_First) < 1:\n",
    "                return \"Something is wrong with the data!\"\n",
    "            \n",
    "            #Calculating NVRV\n",
    "            NVRV = len(Unique_Id_Second - Unique_Id_First) / len(Unique_Id_First.intersection(Unique_Id_Second))\n",
    "        return round(NVRV, 2)"
   ]
  },
  {
   "cell_type": "markdown",
   "metadata": {},
   "source": [
    "Lets check the function on expected data and edge cases:"
   ]
  },
  {
   "cell_type": "code",
   "execution_count": 21,
   "metadata": {},
   "outputs": [
    {
     "name": "stdout",
     "output_type": "stream",
     "text": [
      "0.42\n",
      "===========================================\n",
      "Edge cases:\n",
      "Something is wrong with the data!\n",
      "DF has no entries!\n",
      "Something is wrong with the data!\n"
     ]
    }
   ],
   "source": [
    "NVRV(df, \"ids\", 50, 98)\n",
    "print(NVRV(df, \"ids\", 50, 99))\n",
    "print(\"===========================================\")\n",
    "print(\"Edge cases:\")\n",
    "print(NVRV(df, \"ids\", 50, 199))\n",
    "print(NVRV(df.iloc[:0,:], \"ids\", 50, 99))\n",
    "print(NVRV(df_zero, \"ids\", 150, 99))"
   ]
  }
 ],
 "metadata": {
  "kernelspec": {
   "display_name": "Python 3",
   "language": "python",
   "name": "python3"
  },
  "language_info": {
   "codemirror_mode": {
    "name": "ipython",
    "version": 3
   },
   "file_extension": ".py",
   "mimetype": "text/x-python",
   "name": "python",
   "nbconvert_exporter": "python",
   "pygments_lexer": "ipython3",
   "version": "3.6.10"
  }
 },
 "nbformat": 4,
 "nbformat_minor": 4
}
